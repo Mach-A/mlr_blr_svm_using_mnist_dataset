{
  "cells": [
    {
      "cell_type": "code",
      "execution_count": null,
      "metadata": {
        "id": "4UtuUdHjr87z"
      },
      "outputs": [],
      "source": [
        "import numpy as np\n",
        "from scipy.io import loadmat\n",
        "from scipy.optimize import minimize"
      ]
    },
    {
      "cell_type": "code",
      "execution_count": null,
      "metadata": {
        "colab": {
          "base_uri": "https://localhost:8080/",
          "height": 74
        },
        "id": "h4s6m70lsFnA",
        "outputId": "697cd590-3fb8-48ee-c45e-959fc9c970c6"
      },
      "outputs": [
        {
          "output_type": "display_data",
          "data": {
            "text/plain": [
              "<IPython.core.display.HTML object>"
            ],
            "text/html": [
              "\n",
              "     <input type=\"file\" id=\"files-ac8d7275-ab12-4f43-ae20-a04235c16974\" name=\"files[]\" multiple disabled\n",
              "        style=\"border:none\" />\n",
              "     <output id=\"result-ac8d7275-ab12-4f43-ae20-a04235c16974\">\n",
              "      Upload widget is only available when the cell has been executed in the\n",
              "      current browser session. Please rerun this cell to enable.\n",
              "      </output>\n",
              "      <script>// Copyright 2017 Google LLC\n",
              "//\n",
              "// Licensed under the Apache License, Version 2.0 (the \"License\");\n",
              "// you may not use this file except in compliance with the License.\n",
              "// You may obtain a copy of the License at\n",
              "//\n",
              "//      http://www.apache.org/licenses/LICENSE-2.0\n",
              "//\n",
              "// Unless required by applicable law or agreed to in writing, software\n",
              "// distributed under the License is distributed on an \"AS IS\" BASIS,\n",
              "// WITHOUT WARRANTIES OR CONDITIONS OF ANY KIND, either express or implied.\n",
              "// See the License for the specific language governing permissions and\n",
              "// limitations under the License.\n",
              "\n",
              "/**\n",
              " * @fileoverview Helpers for google.colab Python module.\n",
              " */\n",
              "(function(scope) {\n",
              "function span(text, styleAttributes = {}) {\n",
              "  const element = document.createElement('span');\n",
              "  element.textContent = text;\n",
              "  for (const key of Object.keys(styleAttributes)) {\n",
              "    element.style[key] = styleAttributes[key];\n",
              "  }\n",
              "  return element;\n",
              "}\n",
              "\n",
              "// Max number of bytes which will be uploaded at a time.\n",
              "const MAX_PAYLOAD_SIZE = 100 * 1024;\n",
              "\n",
              "function _uploadFiles(inputId, outputId) {\n",
              "  const steps = uploadFilesStep(inputId, outputId);\n",
              "  const outputElement = document.getElementById(outputId);\n",
              "  // Cache steps on the outputElement to make it available for the next call\n",
              "  // to uploadFilesContinue from Python.\n",
              "  outputElement.steps = steps;\n",
              "\n",
              "  return _uploadFilesContinue(outputId);\n",
              "}\n",
              "\n",
              "// This is roughly an async generator (not supported in the browser yet),\n",
              "// where there are multiple asynchronous steps and the Python side is going\n",
              "// to poll for completion of each step.\n",
              "// This uses a Promise to block the python side on completion of each step,\n",
              "// then passes the result of the previous step as the input to the next step.\n",
              "function _uploadFilesContinue(outputId) {\n",
              "  const outputElement = document.getElementById(outputId);\n",
              "  const steps = outputElement.steps;\n",
              "\n",
              "  const next = steps.next(outputElement.lastPromiseValue);\n",
              "  return Promise.resolve(next.value.promise).then((value) => {\n",
              "    // Cache the last promise value to make it available to the next\n",
              "    // step of the generator.\n",
              "    outputElement.lastPromiseValue = value;\n",
              "    return next.value.response;\n",
              "  });\n",
              "}\n",
              "\n",
              "/**\n",
              " * Generator function which is called between each async step of the upload\n",
              " * process.\n",
              " * @param {string} inputId Element ID of the input file picker element.\n",
              " * @param {string} outputId Element ID of the output display.\n",
              " * @return {!Iterable<!Object>} Iterable of next steps.\n",
              " */\n",
              "function* uploadFilesStep(inputId, outputId) {\n",
              "  const inputElement = document.getElementById(inputId);\n",
              "  inputElement.disabled = false;\n",
              "\n",
              "  const outputElement = document.getElementById(outputId);\n",
              "  outputElement.innerHTML = '';\n",
              "\n",
              "  const pickedPromise = new Promise((resolve) => {\n",
              "    inputElement.addEventListener('change', (e) => {\n",
              "      resolve(e.target.files);\n",
              "    });\n",
              "  });\n",
              "\n",
              "  const cancel = document.createElement('button');\n",
              "  inputElement.parentElement.appendChild(cancel);\n",
              "  cancel.textContent = 'Cancel upload';\n",
              "  const cancelPromise = new Promise((resolve) => {\n",
              "    cancel.onclick = () => {\n",
              "      resolve(null);\n",
              "    };\n",
              "  });\n",
              "\n",
              "  // Wait for the user to pick the files.\n",
              "  const files = yield {\n",
              "    promise: Promise.race([pickedPromise, cancelPromise]),\n",
              "    response: {\n",
              "      action: 'starting',\n",
              "    }\n",
              "  };\n",
              "\n",
              "  cancel.remove();\n",
              "\n",
              "  // Disable the input element since further picks are not allowed.\n",
              "  inputElement.disabled = true;\n",
              "\n",
              "  if (!files) {\n",
              "    return {\n",
              "      response: {\n",
              "        action: 'complete',\n",
              "      }\n",
              "    };\n",
              "  }\n",
              "\n",
              "  for (const file of files) {\n",
              "    const li = document.createElement('li');\n",
              "    li.append(span(file.name, {fontWeight: 'bold'}));\n",
              "    li.append(span(\n",
              "        `(${file.type || 'n/a'}) - ${file.size} bytes, ` +\n",
              "        `last modified: ${\n",
              "            file.lastModifiedDate ? file.lastModifiedDate.toLocaleDateString() :\n",
              "                                    'n/a'} - `));\n",
              "    const percent = span('0% done');\n",
              "    li.appendChild(percent);\n",
              "\n",
              "    outputElement.appendChild(li);\n",
              "\n",
              "    const fileDataPromise = new Promise((resolve) => {\n",
              "      const reader = new FileReader();\n",
              "      reader.onload = (e) => {\n",
              "        resolve(e.target.result);\n",
              "      };\n",
              "      reader.readAsArrayBuffer(file);\n",
              "    });\n",
              "    // Wait for the data to be ready.\n",
              "    let fileData = yield {\n",
              "      promise: fileDataPromise,\n",
              "      response: {\n",
              "        action: 'continue',\n",
              "      }\n",
              "    };\n",
              "\n",
              "    // Use a chunked sending to avoid message size limits. See b/62115660.\n",
              "    let position = 0;\n",
              "    do {\n",
              "      const length = Math.min(fileData.byteLength - position, MAX_PAYLOAD_SIZE);\n",
              "      const chunk = new Uint8Array(fileData, position, length);\n",
              "      position += length;\n",
              "\n",
              "      const base64 = btoa(String.fromCharCode.apply(null, chunk));\n",
              "      yield {\n",
              "        response: {\n",
              "          action: 'append',\n",
              "          file: file.name,\n",
              "          data: base64,\n",
              "        },\n",
              "      };\n",
              "\n",
              "      let percentDone = fileData.byteLength === 0 ?\n",
              "          100 :\n",
              "          Math.round((position / fileData.byteLength) * 100);\n",
              "      percent.textContent = `${percentDone}% done`;\n",
              "\n",
              "    } while (position < fileData.byteLength);\n",
              "  }\n",
              "\n",
              "  // All done.\n",
              "  yield {\n",
              "    response: {\n",
              "      action: 'complete',\n",
              "    }\n",
              "  };\n",
              "}\n",
              "\n",
              "scope.google = scope.google || {};\n",
              "scope.google.colab = scope.google.colab || {};\n",
              "scope.google.colab._files = {\n",
              "  _uploadFiles,\n",
              "  _uploadFilesContinue,\n",
              "};\n",
              "})(self);\n",
              "</script> "
            ]
          },
          "metadata": {}
        },
        {
          "output_type": "stream",
          "name": "stdout",
          "text": [
            "Saving mnist_all.mat to mnist_all.mat\n"
          ]
        }
      ],
      "source": [
        "from google.colab import files\n",
        "uploaded = files.upload()"
      ]
    },
    {
      "cell_type": "code",
      "execution_count": null,
      "metadata": {
        "id": "K_XhLQbbsNxK"
      },
      "outputs": [],
      "source": [
        "def preprocess():\n",
        "    mat = loadmat('mnist_all.mat')\n",
        "    n_feature = mat.get(\"train1\").shape[1]\n",
        "    n_sample = 0\n",
        "    for i in range(10):\n",
        "        n_sample = n_sample + mat.get(\"train\" + str(i)).shape[0]\n",
        "    n_validation = 1000\n",
        "    n_train = n_sample - 10 * n_validation\n",
        "\n",
        "    # Construct validation data\n",
        "    validation_data = np.zeros((10 * n_validation, n_feature))\n",
        "    for i in range(10):\n",
        "        validation_data[i * n_validation:(i + 1) * n_validation, :] = mat.get(\"train\" + str(i))[0:n_validation, :]\n",
        "\n",
        "    # Construct validation label\n",
        "    validation_label = np.ones((10 * n_validation, 1))\n",
        "    for i in range(10):\n",
        "        validation_label[i * n_validation:(i + 1) * n_validation, :] = i * np.ones((n_validation, 1))\n",
        "\n",
        "    # Construct training data and label\n",
        "    train_data = np.zeros((n_train, n_feature))\n",
        "    train_label = np.zeros((n_train, 1))\n",
        "    temp = 0\n",
        "    for i in range(10):\n",
        "        size_i = mat.get(\"train\" + str(i)).shape[0]\n",
        "        train_data[temp:temp + size_i - n_validation, :] = mat.get(\"train\" + str(i))[n_validation:size_i, :]\n",
        "        train_label[temp:temp + size_i - n_validation, :] = i * np.ones((size_i - n_validation, 1))\n",
        "        temp = temp + size_i - n_validation\n",
        "\n",
        "    # Construct test data and label\n",
        "    n_test = 0\n",
        "    for i in range(10):\n",
        "        n_test = n_test + mat.get(\"test\" + str(i)).shape[0]\n",
        "    test_data = np.zeros((n_test, n_feature))\n",
        "    test_label = np.zeros((n_test, 1))\n",
        "    temp = 0\n",
        "    for i in range(10):\n",
        "        size_i = mat.get(\"test\" + str(i)).shape[0]\n",
        "        test_data[temp:temp + size_i, :] = mat.get(\"test\" + str(i))\n",
        "        test_label[temp:temp + size_i, :] = i * np.ones((size_i, 1))\n",
        "        temp = temp + size_i\n",
        "\n",
        "\n",
        "    # Delete features which don't provide any useful information for classifiers\n",
        "    sigma = np.std(train_data, axis=0)\n",
        "    index = np.array([])\n",
        "    for i in range(n_feature):\n",
        "        if (sigma[i] > 0.001):\n",
        "            index = np.append(index, [i])\n",
        "    train_data = train_data[:, index.astype(int)]\n",
        "    validation_data = validation_data[:, index.astype(int)]\n",
        "    test_data = test_data[:, index.astype(int)]\n",
        "\n",
        "    # Scale data to 0 and 1\n",
        "    train_data /= 255.0\n",
        "    validation_data /= 255.0\n",
        "    test_data /= 255.0\n",
        "\n",
        "    return train_data, train_label, validation_data, validation_label, test_data, test_label"
      ]
    },
    {
      "cell_type": "code",
      "execution_count": null,
      "metadata": {
        "id": "8ddpC9xOsSsB"
      },
      "outputs": [],
      "source": [
        "def sigmoid(z):\n",
        "    return 1.0 / (1.0 + np.exp(-z))\n",
        "\n",
        "def blrObjFunction(initialWeights, *args):\n",
        "    train_data, labeli = args\n",
        "    n_data = train_data.shape[0]\n",
        "    n_features = train_data.shape[1]\n",
        "\n",
        "    initialWeights = initialWeights.reshape((n_features + 1, 1))\n",
        "    train_data = np.hstack((np.ones((n_data, 1)), train_data))\n",
        "    z = np.dot(train_data, initialWeights)\n",
        "    sig_data = sigmoid(z)\n",
        "    sig_data = np.clip(sig_data, 1e-10, 1 - 1e-10)\n",
        "\n",
        "    error = -np.sum(labeli * np.log(sig_data) + (1 - labeli) * np.log(1 - sig_data)) / n_data\n",
        "    error_grad = -np.dot(train_data.T, (sig_data - labeli)) / n_data\n",
        "    error_grad = error_grad.flatten()\n",
        "\n",
        "    return error, error_grad\n",
        "\n",
        "def blrPredict(W, data):\n",
        "    n_data = data.shape[0]\n",
        "    data = np.hstack((np.ones((n_data, 1)), data))\n",
        "    probabilities = sigmoid(np.dot(data, W))\n",
        "    label = np.argmax(probabilities, axis=1).reshape(-1, 1)\n",
        "\n",
        "    return label"
      ]
    },
    {
      "cell_type": "code",
      "execution_count": null,
      "metadata": {
        "id": "udQhiIDuPSch"
      },
      "outputs": [],
      "source": [
        "train_data, train_label, validation_data, validation_label, test_data, test_label = preprocess()\n",
        "\n",
        "n_class = 10\n",
        "n_train = train_data.shape[0]\n",
        "n_feature = train_data.shape[1]\n",
        "\n",
        "Y = np.zeros((n_train, n_class))\n",
        "for i in range(n_class):\n",
        "    Y[:, i] = (train_label == i).astype(int).ravel()\n",
        "\n",
        "W = np.zeros((n_feature + 1, n_class))\n",
        "initialWeights = np.zeros((n_feature + 1))\n",
        "opts = {'maxiter': 100}\n",
        "for i in range(n_class):\n",
        "    labeli = Y[:, i].reshape(n_train, 1)\n",
        "    args = (train_data, labeli)\n",
        "    nn_params = minimize(blrObjFunction, initialWeights, jac=True, args=args, method='CG', options=opts)\n",
        "    W[:, i] = nn_params.x.reshape((n_feature + 1,))"
      ]
    },
    {
      "cell_type": "code",
      "execution_count": null,
      "metadata": {
        "colab": {
          "base_uri": "https://localhost:8080/"
        },
        "id": "qpwQc_NKPn4r",
        "outputId": "70cc40ac-f84b-4e7b-88c5-6656b4e6f047"
      },
      "outputs": [
        {
          "output_type": "stream",
          "name": "stdout",
          "text": [
            "\n",
            " Training set Accuracy:9.846%\n",
            "\n",
            " Validation set Accuracy:10.0%\n",
            "\n",
            " Testing set Accuracy:9.8%\n"
          ]
        }
      ],
      "source": [
        "# Find the accuracy on Training Dataset\n",
        "tr_predicted_label = blrPredict(W, train_data)\n",
        "print('\\n Training set Accuracy:' + str(100 * np.mean((tr_predicted_label == train_label).astype(float))) + '%')\n",
        "\n",
        "# Find the accuracy on Validation Dataset\n",
        "val_predicted_label = blrPredict(W, validation_data)\n",
        "print('\\n Validation set Accuracy:' + str(100 * np.mean((val_predicted_label == validation_label).astype(float))) + '%')\n",
        "\n",
        "# Find the accuracy on Testing Dataset\n",
        "te_predicted_label = blrPredict(W, test_data)\n",
        "print('\\n Testing set Accuracy:' + str(100 * np.mean((te_predicted_label == test_label).astype(float))) + '%')"
      ]
    },
    {
      "cell_type": "code",
      "execution_count": null,
      "metadata": {
        "colab": {
          "base_uri": "https://localhost:8080/"
        },
        "id": "6QlCKZhUQKtI",
        "outputId": "f8c6416b-4954-4118-ea79-2ea2aed725cf"
      },
      "outputs": [
        {
          "output_type": "stream",
          "name": "stdout",
          "text": [
            "\n",
            "Training Error per Class:\n",
            "Class 0: 0.0000\n",
            "Class 1: 1.0000\n",
            "Class 2: 1.0000\n",
            "Class 3: 1.0000\n",
            "Class 4: 1.0000\n",
            "Class 5: 1.0000\n",
            "Class 6: 1.0000\n",
            "Class 7: 1.0000\n",
            "Class 8: 1.0000\n",
            "Class 9: 1.0000\n",
            "\n",
            "Testing Error per Class:\n",
            "Class 0: 0.0000\n",
            "Class 1: 1.0000\n",
            "Class 2: 1.0000\n",
            "Class 3: 1.0000\n",
            "Class 4: 1.0000\n",
            "Class 5: 1.0000\n",
            "Class 6: 1.0000\n",
            "Class 7: 1.0000\n",
            "Class 8: 1.0000\n",
            "Class 9: 1.0000\n"
          ]
        }
      ],
      "source": [
        "# Errors for each binary pair (category)\n",
        "\n",
        "def error_per_class(pred, actual):\n",
        "    err = {}\n",
        "    for i in range(n_class):\n",
        "        idx = (actual.flatten() == i)\n",
        "        if np.sum(idx) > 0:\n",
        "            err[i] = 1 - np.mean(pred[idx] == i)\n",
        "        else:\n",
        "            err[i] = None\n",
        "    return err\n",
        "\n",
        "tr_err = error_per_class(tr_predicted_label, train_label)\n",
        "te_err = error_per_class(te_predicted_label, test_label)\n",
        "\n",
        "print(\"\\nTraining Error per Class:\")\n",
        "for i in range(n_class):\n",
        "    print(f\"Class {i}: {tr_err[i]:.4f}\")\n",
        "\n",
        "print(\"\\nTesting Error per Class:\")\n",
        "for i in range(n_class):\n",
        "    print(f\"Class {i}: {te_err[i]:.4f}\")"
      ]
    },
    {
      "cell_type": "code",
      "execution_count": null,
      "metadata": {
        "id": "bPzpm1ot9YcI"
      },
      "outputs": [],
      "source": [
        "def mlrObjFunction(params, *args):\n",
        "    train_data, labeli = args\n",
        "    n_data = train_data.shape[0]\n",
        "    n_feature = train_data.shape[1]\n",
        "    n_class = labeli.shape[1]\n",
        "\n",
        "    W = params.reshape((n_feature + 1, n_class))\n",
        "    train_data = np.hstack((np.ones((n_data, 1)), train_data))\n",
        "# compute softmax for the features variables\n",
        "    logits_y = np.dot(train_data, W)\n",
        "    logits_y -= np.max(logits_y, axis=1, keepdims=True)\n",
        "    probs = np.exp(logits_y)\n",
        "    probs /= np.sum(probs, axis=1, keepdims=True)\n",
        "\n",
        "    merror = -np.sum(labeli * np.log(probs)) # to differentiate the error function above\n",
        "    merror_grad = np.dot(train_data.T, (probs - labeli))  # same concern as above\n",
        "    merror_grad = merror_grad.flatten()\n",
        "\n",
        "    return merror, merror_grad"
      ]
    },
    {
      "cell_type": "code",
      "execution_count": null,
      "metadata": {
        "id": "cIW7hNHe9djF"
      },
      "outputs": [],
      "source": [
        "# apply 1 of K encoding which is One-Hot Encoding\n",
        "def mlr_ohe(label, n_class):\n",
        "    return np.eye(n_class)[label.astype(int).reshape(-1)]\n",
        "\n",
        "n_class = 10\n",
        "train_label_encoded = mlr_ohe(train_label, n_class)"
      ]
    },
    {
      "cell_type": "code",
      "execution_count": null,
      "metadata": {
        "id": "EOH6aGvY9gKi"
      },
      "outputs": [],
      "source": [
        "def mlrPredict(W, data):\n",
        "    n_data = data.shape[0]\n",
        "    data = np.hstack((np.ones((n_data, 1)), data))\n",
        "    logits_y = np.dot(data, W)\n",
        "    probs = np.exp(logits_y)\n",
        "    probs /= np.sum(probs, axis=1, keepdims=True)\n",
        "    mlabel = np.argmax(probs, axis=1).reshape(-1, 1)\n",
        "\n",
        "    return mlabel"
      ]
    },
    {
      "cell_type": "code",
      "execution_count": null,
      "metadata": {
        "id": "cVtcGGT09loS"
      },
      "outputs": [],
      "source": [
        "n_class = 10\n",
        "n_train = train_data.shape[0]\n",
        "n_feature = train_data.shape[1]\n",
        "\n",
        "W_b = np.zeros((n_feature + 1, n_class))\n",
        "initialWeights_b = np.zeros((n_feature + 1, n_class)).flatten()\n",
        "opts_b = {'maxiter': 100}\n",
        "\n",
        "Ym = train_label_encoded\n",
        "args_b = (train_data, Ym)\n",
        "nn_params_b = minimize(mlrObjFunction, initialWeights_b, jac=True, args=args_b, method='CG', options=opts_b)\n",
        "W_b = nn_params_b.x.reshape((n_feature + 1, n_class))"
      ]
    },
    {
      "cell_type": "code",
      "execution_count": null,
      "metadata": {
        "colab": {
          "base_uri": "https://localhost:8080/"
        },
        "id": "TgEee0t49oUb",
        "outputId": "5109451d-60ad-4297-e7c3-cfa61a7edfc5"
      },
      "outputs": [
        {
          "output_type": "stream",
          "name": "stdout",
          "text": [
            "\n",
            "Multi-Class Training set Accuracy:93.16%\n",
            "\n",
            " Multi-Class Validation set Accuracy:92.4%\n",
            "\n",
            " Multi-Class Testing set Accuracy:92.55%\n"
          ]
        }
      ],
      "source": [
        "# Find the accuracy on Training Dataset\n",
        "tr_predicted_label_b = mlrPredict(W_b, train_data)\n",
        "print('\\nMulti-Class Training set Accuracy:' + str(100 * np.mean((tr_predicted_label_b == train_label).astype(float))) + '%')\n",
        "\n",
        "# Find the accuracy on Validation Dataset\n",
        "val_predicted_label_b = mlrPredict(W_b, validation_data)\n",
        "print('\\n Multi-Class Validation set Accuracy:' + str(100 * np.mean((val_predicted_label_b == validation_label).astype(float))) + '%')\n",
        "\n",
        "# Find the accuracy on Testing Dataset\n",
        "te_predicted_label_b = mlrPredict(W_b, test_data)\n",
        "print('\\n Multi-Class Testing set Accuracy:' + str(100 * np.mean((te_predicted_label_b == test_label).astype(float))) + '%')"
      ]
    },
    {
      "cell_type": "code",
      "execution_count": null,
      "metadata": {
        "colab": {
          "base_uri": "https://localhost:8080/"
        },
        "id": "w4olM82-9q0U",
        "outputId": "db212262-7de2-4bb3-829e-41fe2e057f73"
      },
      "outputs": [
        {
          "output_type": "stream",
          "name": "stdout",
          "text": [
            "\n",
            "Multi-Class Training Error per Class:\n",
            "Class 0: 0.028\n",
            "Class 1: 0.023\n",
            "Class 2: 0.086\n",
            "Class 3: 0.089\n",
            "Class 4: 0.060\n",
            "Class 5: 0.113\n",
            "Class 6: 0.038\n",
            "Class 7: 0.058\n",
            "Class 8: 0.114\n",
            "Class 9: 0.086\n",
            "\n",
            "Multi-Class Testing Error per Class:\n",
            "Class 0: 0.016\n",
            "Class 1: 0.019\n",
            "Class 2: 0.099\n",
            "Class 3: 0.086\n",
            "Class 4: 0.064\n",
            "Class 5: 0.138\n",
            "Class 6: 0.049\n",
            "Class 7: 0.080\n",
            "Class 8: 0.123\n",
            "Class 9: 0.082\n"
          ]
        }
      ],
      "source": [
        "# Errors for the Multi-Class Classification\n",
        "\n",
        "def multi_class_error(predicted, actual):\n",
        "    error = {}\n",
        "    for i in range(n_class):\n",
        "        idx = actual.flatten() == i\n",
        "        error[i] = 1 - np.mean(predicted[idx] == i)\n",
        "    return error\n",
        "\n",
        "mtr_err = multi_class_error(tr_predicted_label_b, train_label)\n",
        "mte_err = multi_class_error(te_predicted_label_b, test_label)\n",
        "\n",
        "print(\"\\nMulti-Class Training Error per Class:\")\n",
        "for i in range(n_class):\n",
        "    print(f\"Class {i}: {mtr_err[i]:.3f}\")\n",
        "\n",
        "print(\"\\nMulti-Class Testing Error per Class:\")\n",
        "for i in range(n_class):\n",
        "    print(f\"Class {i}: {mte_err[i]:.3f}\")"
      ]
    },
    {
      "cell_type": "code",
      "execution_count": null,
      "metadata": {
        "id": "3xBPtljq9tTs"
      },
      "outputs": [],
      "source": [
        "from sklearn import svm\n",
        "from sklearn.svm import SVC\n",
        "import matplotlib.pyplot as plt"
      ]
    },
    {
      "cell_type": "code",
      "execution_count": null,
      "metadata": {
        "id": "JBglKv9nHnmX"
      },
      "outputs": [],
      "source": [
        "# .....datasets\n",
        "X_train = train_data\n",
        "y_train = train_label.flatten()\n",
        "X_val = validation_data\n",
        "y_val = validation_label.flatten()\n",
        "X_test = test_data\n",
        "y_test = test_label.flatten()"
      ]
    },
    {
      "cell_type": "code",
      "execution_count": null,
      "metadata": {
        "id": "GxZq_ntgUso5"
      },
      "outputs": [],
      "source": [
        "# accuracy function\n",
        "def accuracy(true_labels, predicted_labels):\n",
        "    correct = np.sum(true_labels == predicted_labels)\n",
        "    total = true_labels.shape[0]\n",
        "    return (correct / total) * 100"
      ]
    },
    {
      "cell_type": "code",
      "execution_count": null,
      "metadata": {
        "colab": {
          "base_uri": "https://localhost:8080/"
        },
        "id": "ZyUK5B2eVXSL",
        "outputId": "e2f28c5c-46ba-410c-8e9e-fe4a754eccdd"
      },
      "outputs": [
        {
          "name": "stdout",
          "output_type": "stream",
          "text": [
            "SVM with Linear Kernel:\n",
            "Training Accuracy: 97.29%\n",
            "Validation Accuracy: 93.64%\n",
            "Testing Accuracy: 93.78%\n",
            "\n"
          ]
        }
      ],
      "source": [
        "# SVM with Linear Kernel\n",
        "clf_linear = svm.SVC(kernel='linear')\n",
        "clf_linear.fit(X_train, y_train)\n",
        "\n",
        "train_preds = clf_linear.predict(X_train)\n",
        "val_preds = clf_linear.predict(X_val)\n",
        "test_preds = clf_linear.predict(X_test)\n",
        "\n",
        "print(\"SVM with Linear Kernel:\")\n",
        "print(f\"Training Accuracy: {accuracy(y_train, train_preds):.2f}%\")\n",
        "print(f\"Validation Accuracy: {accuracy(y_val, val_preds):.2f}%\")\n",
        "print(f\"Testing Accuracy: {accuracy(y_test, test_preds):.2f}%\\n\")"
      ]
    },
    {
      "cell_type": "code",
      "execution_count": null,
      "metadata": {
        "colab": {
          "background_save": true
        },
        "id": "1X3LyTOMVvYX",
        "outputId": "1fc68b5c-1aec-427c-8512-799315fa097e"
      },
      "outputs": [
        {
          "name": "stdout",
          "output_type": "stream",
          "text": [
            "RBF Kernel with gamma=1 :\n",
            "Training Accuracy: 100.00%\n",
            "Validation Accuracy: 15.48%\n",
            "Testing Accuracy: 17.14%\n",
            "\n"
          ]
        }
      ],
      "source": [
        "# RBF with value gamma=1 setting\n",
        "clf_rbf1 = svm.SVC(kernel='rbf', gamma=1)\n",
        "clf_rbf1.fit(X_train, y_train)\n",
        "\n",
        "train_preds_g1 = clf_rbf1.predict(X_train)\n",
        "val_preds_g1 = clf_rbf1.predict(X_val)\n",
        "test_preds_g1 = clf_rbf1.predict(X_test)\n",
        "\n",
        "print(\"RBF Kernel with gamma=1 :\")\n",
        "print(f\"Training Accuracy: {accuracy(y_train, train_preds_g1):.2f}%\")\n",
        "print(f\"Validation Accuracy: {accuracy(y_val, val_preds_g1):.2f}%\")\n",
        "print(f\"Testing Accuracy: {accuracy(y_test, test_preds_g1):.2f}%\\n\")"
      ]
    },
    {
      "cell_type": "code",
      "execution_count": null,
      "metadata": {
        "id": "kFX6lPQ2Vybr",
        "colab": {
          "base_uri": "https://localhost:8080/"
        },
        "outputId": "8bd2ccb3-e381-4507-b366-d9cda8fcc39b"
      },
      "outputs": [
        {
          "output_type": "stream",
          "name": "stdout",
          "text": [
            "RBF Kernel with default gamma:\n",
            "Training Accuracy: 98.98%\n",
            "Validation Accuracy: 97.89%\n",
            "Testing Accuracy: 97.87%\n",
            "\n"
          ]
        }
      ],
      "source": [
        "# RBF with default gamma setting\n",
        "clf_rbf_default = svm.SVC(kernel='rbf')\n",
        "clf_rbf_default.fit(X_train, y_train)\n",
        "\n",
        "train_preds_gd = clf_rbf_default.predict(X_train)\n",
        "val_preds_gd = clf_rbf_default.predict(X_val)\n",
        "test_preds_gd = clf_rbf_default.predict(X_test)\n",
        "\n",
        "print(\"RBF Kernel with default gamma:\")\n",
        "print(f\"Training Accuracy: {accuracy(y_train, train_preds_gd):.2f}%\")\n",
        "print(f\"Validation Accuracy: {accuracy(y_val, val_preds_gd):.2f}%\")\n",
        "print(f\"Testing Accuracy: {accuracy(y_test, test_preds_gd):.2f}%\\n\")"
      ]
    },
    {
      "cell_type": "code",
      "execution_count": null,
      "metadata": {
        "id": "zmE7vG8_KSs1",
        "colab": {
          "base_uri": "https://localhost:8080/",
          "height": 564
        },
        "outputId": "8af427a2-932c-4ebf-c1d2-e70e0bc7744a"
      },
      "outputs": [
        {
          "output_type": "display_data",
          "data": {
            "text/plain": [
              "<Figure size 1000x600 with 1 Axes>"
            ],
            "image/png": "[encoded data removed]"
          },
          "metadata": {}
        }
      ],
      "source": [
        "# RBF with default gamma setting and varying values of C\n",
        "C_values = list(range(1, 101, 10))\n",
        "train_acc, val_acc, test_acc = [], [], []\n",
        "\n",
        "for C in C_values:\n",
        "    clf = svm.SVC(kernel='rbf', C=C)\n",
        "    clf.fit(X_train, y_train)\n",
        "\n",
        "    train_acc.append(accuracy(y_train, clf.predict(X_train)))\n",
        "    val_acc.append(accuracy(y_val, clf.predict(X_val)))\n",
        "    test_acc.append(accuracy(y_test, clf.predict(X_test)))\n",
        "\n",
        "plt.figure(figsize=(10, 6))\n",
        "plt.plot(C_values, train_acc, label=\"Training Accuracy\")\n",
        "plt.plot(C_values, val_acc, label=\"Validation Accuracy\")\n",
        "plt.plot(C_values, test_acc, label=\"Testing Accuracy\")\n",
        "plt.xlabel(\"C Value\")\n",
        "plt.ylabel(\"Accuracy (%)\")\n",
        "plt.title(\"SVM with RBF Kernel: Accuracy vs varying value of C\")\n",
        "plt.legend()\n",
        "plt.grid(True)\n",
        "plt.show()"
      ]
    }
  ],
  "metadata": {
    "accelerator": "TPU",
    "colab": {
      "gpuType": "V28",
      "machine_shape": "hm",
      "provenance": []
    },
    "kernelspec": {
      "display_name": "Python 3",
      "name": "python3"
    },
    "language_info": {
      "name": "python"
    }
  },
  "nbformat": 4,
  "nbformat_minor": 0
}